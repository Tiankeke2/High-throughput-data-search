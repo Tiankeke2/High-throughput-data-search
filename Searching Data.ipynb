{
 "cells": [
  {
   "cell_type": "code",
   "execution_count": 1,
   "metadata": {},
   "outputs": [],
   "source": [
    "import pandas as pd\n",
    "import numpy as np\n",
    "import os\n",
    "import re\n",
    "import json\n",
    "import requests\n",
    "from bs4 import BeautifulSoup"
   ]
  },
  {
   "cell_type": "markdown",
   "metadata": {},
   "source": [
    "## 读取菌属表格文件"
   ]
  },
  {
   "cell_type": "code",
   "execution_count": 2,
   "metadata": {},
   "outputs": [
    {
     "name": "stdout",
     "output_type": "stream",
     "text": [
      "296\n"
     ]
    },
    {
     "data": {
      "text/html": [
       "<div>\n",
       "<style scoped>\n",
       "    .dataframe tbody tr th:only-of-type {\n",
       "        vertical-align: middle;\n",
       "    }\n",
       "\n",
       "    .dataframe tbody tr th {\n",
       "        vertical-align: top;\n",
       "    }\n",
       "\n",
       "    .dataframe thead th {\n",
       "        text-align: right;\n",
       "    }\n",
       "</style>\n",
       "<table border=\"1\" class=\"dataframe\">\n",
       "  <thead>\n",
       "    <tr style=\"text-align: right;\">\n",
       "      <th></th>\n",
       "      <th>CA1S</th>\n",
       "      <th>CA1B</th>\n",
       "      <th>CA2S</th>\n",
       "      <th>CA2B</th>\n",
       "      <th>IA1S48</th>\n",
       "      <th>IA1B48</th>\n",
       "      <th>IA2S48</th>\n",
       "      <th>IA2B48</th>\n",
       "    </tr>\n",
       "  </thead>\n",
       "  <tbody>\n",
       "    <tr>\n",
       "      <th>count</th>\n",
       "      <td>%</td>\n",
       "      <td>%</td>\n",
       "      <td>%</td>\n",
       "      <td>%</td>\n",
       "      <td>%</td>\n",
       "      <td>%</td>\n",
       "      <td>%</td>\n",
       "      <td>NaN</td>\n",
       "    </tr>\n",
       "    <tr>\n",
       "      <th>k__Bacteria;p__Actinobacteria;c__Acidimicrobiia;o__Actinomarinales;f__;g__</th>\n",
       "      <td>0.29</td>\n",
       "      <td>0.059</td>\n",
       "      <td>0.076</td>\n",
       "      <td>0.057</td>\n",
       "      <td>0.032</td>\n",
       "      <td>0.007</td>\n",
       "      <td>0.025</td>\n",
       "      <td>0.004</td>\n",
       "    </tr>\n",
       "    <tr>\n",
       "      <th>k__Bacteria;p__Proteobacteria;c__Alphaproteobacteria;o__Rhodobacterales;f__Rhodobacteraceae;Other</th>\n",
       "      <td>0.103</td>\n",
       "      <td>0.091</td>\n",
       "      <td>0.068</td>\n",
       "      <td>0.068</td>\n",
       "      <td>0.109</td>\n",
       "      <td>0.024</td>\n",
       "      <td>0.037</td>\n",
       "      <td>0.029</td>\n",
       "    </tr>\n",
       "    <tr>\n",
       "      <th>k__Bacteria;p__Proteobacteria;c__Alphaproteobacteria;o__Rhodospirillales;f__unidentified_Rhodospirillales;g__Defluviicoccus</th>\n",
       "      <td>0.094</td>\n",
       "      <td>0.156</td>\n",
       "      <td>0.222</td>\n",
       "      <td>0.137</td>\n",
       "      <td>0.202</td>\n",
       "      <td>0.112</td>\n",
       "      <td>0.265</td>\n",
       "      <td>0.243</td>\n",
       "    </tr>\n",
       "    <tr>\n",
       "      <th>k__Bacteria;p__Proteobacteria;c__Alphaproteobacteria;o__Rhizobiales;f__Rhizobiaceae;Other</th>\n",
       "      <td>0.067</td>\n",
       "      <td>0.071</td>\n",
       "      <td>0.022</td>\n",
       "      <td>0.025</td>\n",
       "      <td>0.099</td>\n",
       "      <td>0.022</td>\n",
       "      <td>0.009</td>\n",
       "      <td>0.009</td>\n",
       "    </tr>\n",
       "  </tbody>\n",
       "</table>\n",
       "</div>"
      ],
      "text/plain": [
       "                                                     CA1S   CA1B   CA2S  \\\n",
       "count                                                   %      %      %   \n",
       "k__Bacteria;p__Actinobacteria;c__Acidimicrobiia...   0.29  0.059  0.076   \n",
       "k__Bacteria;p__Proteobacteria;c__Alphaproteobac...  0.103  0.091  0.068   \n",
       "k__Bacteria;p__Proteobacteria;c__Alphaproteobac...  0.094  0.156  0.222   \n",
       "k__Bacteria;p__Proteobacteria;c__Alphaproteobac...  0.067  0.071  0.022   \n",
       "\n",
       "                                                     CA2B IA1S48 IA1B48  \\\n",
       "count                                                   %      %      %   \n",
       "k__Bacteria;p__Actinobacteria;c__Acidimicrobiia...  0.057  0.032  0.007   \n",
       "k__Bacteria;p__Proteobacteria;c__Alphaproteobac...  0.068  0.109  0.024   \n",
       "k__Bacteria;p__Proteobacteria;c__Alphaproteobac...  0.137  0.202  0.112   \n",
       "k__Bacteria;p__Proteobacteria;c__Alphaproteobac...  0.025  0.099  0.022   \n",
       "\n",
       "                                                   IA2S48  IA2B48  \n",
       "count                                                   %     NaN  \n",
       "k__Bacteria;p__Actinobacteria;c__Acidimicrobiia...  0.025   0.004  \n",
       "k__Bacteria;p__Proteobacteria;c__Alphaproteobac...  0.037   0.029  \n",
       "k__Bacteria;p__Proteobacteria;c__Alphaproteobac...  0.265   0.243  \n",
       "k__Bacteria;p__Proteobacteria;c__Alphaproteobac...  0.009   0.009  "
      ]
     },
     "execution_count": 2,
     "metadata": {},
     "output_type": "execute_result"
    }
   ],
   "source": [
    "strain_df = pd.read_excel('./dataset/CA IA/strain.xlsx')\n",
    "print(len(strain_df))\n",
    "strain_df.head()"
   ]
  },
  {
   "cell_type": "markdown",
   "metadata": {},
   "source": [
    "## 找出需要查的菌属"
   ]
  },
  {
   "cell_type": "code",
   "execution_count": 3,
   "metadata": {},
   "outputs": [
    {
     "data": {
      "text/plain": [
       "(False, 1)"
      ]
     },
     "execution_count": 3,
     "metadata": {},
     "output_type": "execute_result"
    }
   ],
   "source": [
    "def needSearch(strain_item):\n",
    "    \"\"\"\n",
    "        判断菌属是否需要查\n",
    "        返回值：(need_search, code)\n",
    "            need_search: True/False 如果需要查则返回True,反之是False\n",
    "            code: 0/1/2/3 标识码\n",
    "                0 需要查\n",
    "                1 菌属信息不全\n",
    "                2 f 中含有 unidentified\n",
    "                3 数值全部小于0.005（0.5%）\n",
    "    \"\"\"\n",
    "    # 解析菌属字段\n",
    "    strain_name = strain_item.name\n",
    "    strain_values = strain_item.values\n",
    "\n",
    "    # 将菌属字符串分割成为k,p,c,o,f,g的列表\n",
    "    strain_detail = strain_name.split(';')\n",
    "    \n",
    "    need_search = True\n",
    "    code = 0\n",
    "    # 检查是否有菌属信息\n",
    "    for detail in strain_detail[:-1]:\n",
    "        if detail[-1] == '_' or 'Other' in detail:\n",
    "            need_search = False\n",
    "            code = 1\n",
    "            break\n",
    "\n",
    "    # 检查 f 是否有 ‘unidentified’\n",
    "    if 'unidentified' in strain_detail[4]:\n",
    "        need_search = False\n",
    "        code = 2\n",
    "\n",
    "    # 检查数值是否小于 0.5%\n",
    "    if True not in (strain_values > 0.005):\n",
    "        need_search = False\n",
    "        code = 3\n",
    "    \n",
    "    return need_search, code\n",
    "\n",
    "needSearch(strain_df.iloc[1])"
   ]
  },
  {
   "cell_type": "code",
   "execution_count": 4,
   "metadata": {},
   "outputs": [
    {
     "name": "stdout",
     "output_type": "stream",
     "text": [
      "共需要查 38 个菌属\n"
     ]
    }
   ],
   "source": [
    "def strainNeedSearch(strain_df):\n",
    "    \"\"\"\n",
    "        返回所有需要查找的菌属\n",
    "    \"\"\"\n",
    "    \n",
    "    strain_need_search = []\n",
    "    for i in range(1, len(strain_df)):\n",
    "        strain_item = strain_df.iloc[i]\n",
    "        if needSearch(strain_item)[0] == True:\n",
    "            # 将菌属名存入 strain_name\n",
    "#             strain_name = ';'.join(strain_item.name.split(';')[:-1])\n",
    "            strain_name = strain_item.name\n",
    "            strain_need_search.append(strain_name)\n",
    "    print(\"共需要查 %d 个菌属\" %(len(strain_need_search)))\n",
    "    return strain_need_search\n",
    "\n",
    "strain_need_search = strainNeedSearch(strain_df)"
   ]
  },
  {
   "cell_type": "code",
   "execution_count": 5,
   "metadata": {},
   "outputs": [
    {
     "data": {
      "text/plain": [
       "['k__Bacteria;p__Proteobacteria;c__Alphaproteobacteria;o__Rhodobacterales;f__Rhodobacteraceae;Other',\n",
       " 'k__Bacteria;p__Proteobacteria;c__Alphaproteobacteria;o__Rhizobiales;f__Rhizobiaceae;Other',\n",
       " 'k__Bacteria;p__Proteobacteria;c__Gammaproteobacteria;o__unidentified_Gammaproteobacteria;f__Competibacteraceae;g__Candidatus_Competibacter',\n",
       " 'k__Bacteria;p__Bacteroidetes;c__Chlorobia;o__Chlorobiales;f__Chlorobiaceae;g__Prosthecochloris',\n",
       " 'k__Bacteria;p__Proteobacteria;c__Gammaproteobacteria;o__unidentified_Gammaproteobacteria;f__Nitrosomonadaceae;g__Nitrosomonas']"
      ]
     },
     "execution_count": 5,
     "metadata": {},
     "output_type": "execute_result"
    }
   ],
   "source": [
    "strain_need_search[:5]"
   ]
  },
  {
   "cell_type": "markdown",
   "metadata": {},
   "source": [
    "## 通过`OTUs.tax_assignments.txt`查找OTU数\n",
    "\n",
    "### 打开`OTUs.tax_assignments.txt`并读取信息"
   ]
  },
  {
   "cell_type": "code",
   "execution_count": 6,
   "metadata": {
    "scrolled": true
   },
   "outputs": [
    {
     "name": "stdout",
     "output_type": "stream",
     "text": [
      "OTU_325\tk__Bacteria;p__Actinobacteria;c__unidentified_Actinobacteria;o__Propionibacteriales;f__Nocar\n"
     ]
    }
   ],
   "source": [
    "with open('./dataset/CA IA/OTUs.tax_assignments.txt', 'r') as f:\n",
    "    OTUs_content = f.read()\n",
    "print(OTUs_content[:100])"
   ]
  },
  {
   "cell_type": "markdown",
   "metadata": {},
   "source": [
    "### 找出`strain_need_search`所对应的`OTUs_need_search`\n",
    "\n",
    "`OTUs_need_search`是一个字典：\n",
    "```python\n",
    "OTUs_need_search = {\n",
    "        \"菌属名0\":[对应的OTU列表],\n",
    "        \"菌属名1\":[对应的OTU列表],\n",
    "        ...\n",
    "}\n",
    "\n",
    "```"
   ]
  },
  {
   "cell_type": "code",
   "execution_count": 7,
   "metadata": {},
   "outputs": [],
   "source": [
    "def OTUsNeedSearch(strain_need_search):\n",
    "    \"\"\"\n",
    "        根据 strain_need_search 找出对应的 OTUs，\n",
    "        并存入 OTUs_need_search 字典中\n",
    "    \"\"\"\n",
    "    OTUs_need_search = dict()\n",
    "\n",
    "    for strain_name in strain_need_search:\n",
    "        # 正则表达式找出菌属名所对应的 OTUs_content\n",
    "        info = r'\\n([^\\n]+%s[^\\n]+)\\n' %(';'.join(strain_name.split(';')[:-1]))\n",
    "        OTUs_content_need_search = re.findall(info, OTUs_content)\n",
    "\n",
    "        # 从 OTUs_content 中获取 OTUs 列表\n",
    "        OTUs_list_need_search = [content.split('\\t')[0] for content in OTUs_content_need_search]\n",
    "\n",
    "        # 将 OTUs 列表存入 OTUs_need_search 字典中\n",
    "        OTUs_need_search[strain_name] = OTUs_list_need_search\n",
    "    \n",
    "    return OTUs_need_search\n",
    "\n",
    "OTUs_need_search = OTUsNeedSearch(strain_need_search)"
   ]
  },
  {
   "cell_type": "code",
   "execution_count": 8,
   "metadata": {},
   "outputs": [
    {
     "data": {
      "text/plain": [
       "38"
      ]
     },
     "execution_count": 8,
     "metadata": {},
     "output_type": "execute_result"
    }
   ],
   "source": [
    "len(OTUs_need_search)"
   ]
  },
  {
   "cell_type": "markdown",
   "metadata": {},
   "source": [
    "## 通过`OTUs.fasta`查找`OTUs_need_search`对应的基因序列\n",
    "\n",
    "### 打开`OTUs.fasta`并读取信息"
   ]
  },
  {
   "cell_type": "code",
   "execution_count": 9,
   "metadata": {},
   "outputs": [
    {
     "data": {
      "text/plain": [
       "'>OTU_1\\nTACGGAAGGGGCTAGCGTTGTTCGGATTTACTGGGCGTAAAGAGCACGTAGGCGGCTTATCAAGTGAGGCGTGAAAGGCC\\nTGGGCTCAACCT'"
      ]
     },
     "execution_count": 9,
     "metadata": {},
     "output_type": "execute_result"
    }
   ],
   "source": [
    "with open('./dataset/CA IA/OTUs.fasta', 'r') as f:\n",
    "    fasta_content = f.read()\n",
    "fasta_content[:100]"
   ]
  },
  {
   "cell_type": "markdown",
   "metadata": {},
   "source": [
    "### 找出`OTUs_need_search`所对应的`fasta_need_search`\n",
    "\n",
    "与`OTUs_need_search`类似，`fasta_need_search`也是一个字典：\n",
    "```python\n",
    "fasta_need_search = {\n",
    "        \"菌属名0\":[对应的fasta列表],\n",
    "        \"菌属名1\":[对应的fasta列表],\n",
    "        ...\n",
    "}\n",
    "\n",
    "```"
   ]
  },
  {
   "cell_type": "code",
   "execution_count": 10,
   "metadata": {},
   "outputs": [],
   "source": [
    "def fastaNeedSearch(OTUs_need_search):\n",
    "    \"\"\"\n",
    "        根据 OTUs_need_search 找出对应的基因序列，\n",
    "        并存入 fasta_need_search 字典中\n",
    "    \"\"\"\n",
    "    fasta_need_search = dict()\n",
    "    \n",
    "    for strain_name, OTUs_list in OTUs_need_search.items():\n",
    "        # 正则表达式找出 OTU 所对应的 fasta_content\n",
    "        fasta_content_need_search = []\n",
    "        for OTU in OTUs_list:\n",
    "            info = r'(%s[^>]+)>' %(OTU)\n",
    "            fasta_content_need_search.append(re.findall(info, fasta_content)[0])\n",
    "        \n",
    "        # 从 fasta_content 中获取基因序列\n",
    "        fasta_list_need_search = [''.join(content.split('\\n')[1:]) for content in fasta_content_need_search]\n",
    "        \n",
    "        # 将基因序列存入 fasta_need_search 字典中\n",
    "        fasta_need_search[strain_name] = fasta_list_need_search\n",
    "    \n",
    "    return fasta_need_search\n",
    "\n",
    "fasta_need_search = fastaNeedSearch(OTUs_need_search)"
   ]
  },
  {
   "cell_type": "code",
   "execution_count": 11,
   "metadata": {},
   "outputs": [
    {
     "data": {
      "text/plain": [
       "38"
      ]
     },
     "execution_count": 11,
     "metadata": {},
     "output_type": "execute_result"
    }
   ],
   "source": [
    "len(fasta_need_search)"
   ]
  },
  {
   "cell_type": "markdown",
   "metadata": {},
   "source": [
    "## 保存`OTUs_need_search`和`fasta_need_search`至json文件"
   ]
  },
  {
   "cell_type": "code",
   "execution_count": 12,
   "metadata": {},
   "outputs": [],
   "source": [
    "def saveOTUsNeedSearch(OTUs_need_search):\n",
    "    with open('./dataset/CA IA/OTUs_need_search.json','w') as outfile:\n",
    "        json.dump(OTUs_need_search, outfile)\n",
    "\n",
    "def saveFastaNeedSearch(fasta_need_search):\n",
    "    with open('./dataset/CA IA/fasta_need_search.json','w') as outfile:\n",
    "        json.dump(fasta_need_search, outfile)       \n",
    "        \n",
    "saveOTUsNeedSearch(OTUs_need_search)\n",
    "saveFastaNeedSearch(fasta_need_search)"
   ]
  },
  {
   "cell_type": "markdown",
   "metadata": {},
   "source": [
    "## 搜索序列"
   ]
  },
  {
   "cell_type": "code",
   "execution_count": 4,
   "metadata": {
    "scrolled": true
   },
   "outputs": [],
   "source": [
    "def searchSeqID(seq):\n",
    "    # POST 数据并获得搜索结果\n",
    "    sess = requests.Session()\n",
    "    headers = {\n",
    "        \"User-Agent\":\"Mozilla/5.0 (X11; Linux x86_64) AppleWebKit/537.36 (KHTML, like Gecko) Chrome/71.0.3578.98 Safari/537.36\"\n",
    "    }\n",
    "    sess.headers.update(headers)\n",
    "    data = {\n",
    "        'printParams': 'no',\n",
    "        'fromDB': 'no',\n",
    "        'sequence_file': '(binary)',\n",
    "        'sequence': \"%s\" %(seq),\n",
    "        'strain': 'both',\n",
    "        'source': 'isolates',\n",
    "        'size': 'gt1200',\n",
    "        'quality': 'good',\n",
    "        'taxonomy': 'rdpHome',\n",
    "        'num': 20,\n",
    "        'submit': 'Submit',\n",
    "    }\n",
    "    url = \"http://rdp.cme.msu.edu/seqmatch/SeqmatchControllerServlet/start\"\n",
    "    print(\"准备好数据\")\n",
    "    sess.post(url, data=data)\n",
    "    print(\"已发送数据\")\n",
    "    res = sess.get('http://rdp.cme.msu.edu/seqmatch/seqmatch_result.jsp?qvector=204&depth=0&currentRoot=0&num=20')\n",
    "    html = res.text\n",
    "    print(\"已获取序列比对数据\")\n",
    "#     with open('./123.html', 'w') as f:\n",
    "#         f.write(html)\n",
    "    \n",
    "    # 搜索 match_score 大于等于0.95的序列id\n",
    "    soup = BeautifulSoup(html, 'html.parser')\n",
    "    detail_html = soup.find('div', {'class':'details'})\n",
    "    seq_id_list = [item.text for item in detail_html.find_all('a', {'target':'_blank'})]\n",
    "    match_score = np.array([float(item.text) for item in detail_html.find_all('span', {'style':'background-color: #FFDBB8'})[1:]])\n",
    "    \n",
    "    seq_id_searched = []\n",
    "    if True not in (match_score >= 0.95):\n",
    "        print('match_score 全部小于0.95')\n",
    "    for i, score in enumerate(match_score):\n",
    "        if score >= 0.95:\n",
    "            seq_id_searched.append(seq_id_list[i])\n",
    "    \n",
    "    return seq_id_searched"
   ]
  },
  {
   "cell_type": "markdown",
   "metadata": {},
   "source": [
    "## 多线程"
   ]
  },
  {
   "cell_type": "code",
   "execution_count": 5,
   "metadata": {},
   "outputs": [],
   "source": [
    "from queue import Queue\n",
    "from threading import Thread"
   ]
  },
  {
   "cell_type": "code",
   "execution_count": 6,
   "metadata": {},
   "outputs": [],
   "source": [
    "def searchBatchSeqID(strain_name, fasta_list, queue):\n",
    "    batch_data = (strain_name, [])\n",
    "    for i, seq in enumerate(fasta_list):\n",
    "#         print(\"%d %s\" %((i+1), seq))\n",
    "        try:\n",
    "            batch_data[1].extend(searchSeqID(seq))\n",
    "        except:\n",
    "            batch_data[1].extend([])\n",
    "    queue.put(batch_data)\n",
    "    print(\"\\n成功获取 %s 的所有 seq_id\" %(strain_name))"
   ]
  },
  {
   "cell_type": "code",
   "execution_count": 7,
   "metadata": {},
   "outputs": [],
   "source": [
    "def searchAllSeqID(fasta_need_search):\n",
    "    queue = Queue()\n",
    "    thds = []\n",
    "    for strain_name, fasta_list in fasta_need_search.items():\n",
    "        print(strain_name)\n",
    "        thd = Thread(target=searchBatchSeqID,\n",
    "                    args=(strain_name, fasta_list, queue))\n",
    "        thd.start()\n",
    "        thds.append(thd)\n",
    "        print(\"开启 %s 的线程\" %(strain_name))\n",
    "    for thd in thds:\n",
    "        thd.join()\n",
    "        \n",
    "    seq_id_searched = []\n",
    "    for thd in thds:\n",
    "        seq_id_searched += queue.get()\n",
    "    print('\\n成功获取所有seq_id')\n",
    "    return seq_id_searched\n"
   ]
  },
  {
   "cell_type": "code",
   "execution_count": null,
   "metadata": {
    "scrolled": false
   },
   "outputs": [
    {
     "name": "stdout",
     "output_type": "stream",
     "text": [
      "k__Bacteria;p__Bacteroidetes;c__Chlorobia;o__Chlorobiales;f__Chlorobiaceae;g__Prosthecochloris\n",
      "开启 k__Bacteria;p__Bacteroidetes;c__Chlorobia;o__Chlorobiales;f__Chlorobiaceae;g__Prosthecochloris 的线程\n",
      "已发送数据\n"
     ]
    }
   ],
   "source": [
    "fasta = {\"k__Bacteria;p__Bacteroidetes;c__Chlorobia;o__Chlorobiales;f__Chlorobiaceae;g__Prosthecochloris\": \n",
    "         [\"TACAGGGGTGGCAAGCGTTGTCCGGATTTACTGGGTGTAAAGGGTGCGCAGGCGGAATAGCAAGTCGGgggTTAAATCCATGTGCTTAACACATGCATGGCTTCCGATACTGTTATTCTAGAGTGTCGAAGAGGAAGATGGAATTTCCGGTGTAACGGTGGAATGTGTAGATATCGGAAAGAACACCAGTGGCGAAGGCAGTCTTCTGGTCGACAACTGACGCTCAGGCACGAAAGCGTGGGGAGCGAACAGGATTAGATACCCTGGTAGTCCACGCCGTAAACGATGAATACTAGATGTTGGTCATTCGTGATCAGTGTCGCAGCTAACGCGTTAAGTATTCCACCTGGGAAGTACGCTCGCAAGAGTG\",\n",
    "          \"TACAGGGGTGGCAAGCGTTGTCCGGATTTACTGGGTGTAAAGGGTGCGCAGGCGGACTTATAAGTCGGgggTTAAATCCATGTGCTTAACACATGCATGGCTTCCGATACTGTGAGTCTAGAGTCTCGAAGAGGAAGATGGAATTTCCGGTGTAACGGTGGAATGTGTAGATATCGGAAAGAACACCAGTGGCGAAGGCAGTCTTCTGGTCGAGAACTGACGCTCAGGCACGAAAGCGTGGGGAGCAAACAGGATTAGATACCCTGGTAGTCCACGCCGTAAACGATGAATACTAGATGTTGGTCATATTGATCAGTGTCGCAGCTAACGCGTTAAGTATTCCACCTGGGAAGTACGCCCGCAAGGGTG\",\n",
    "          \"TACGTAGGGTCGAGCGTTAATCGGAATTACTGGGTGTAAAGGGTGCGCAGGCGGAATAGCAAGTCGGgggTTAAATCCATGTGCTTAACACATGCATGGCTTCCGATACTGTTATTCTAGAGTGTCGAAGAGGAAGATGGAATTTCCGGTGTAACGGTGGAATGTGTAGATATCGGAAAGAACACCAGTGGCGAAGGCAGTCTTCTGGTCGACAACTGACGCTCAGGCACGAAAGCGTGGGGAGCGAACAGGATTAGATACCCTGGTAGTCCACGCCGTAAACGATGAATACTAGATGTTGGTCATTCGTGATCAGTGTCGCAGCTAACGCGTTAAGTATTCCACCTGGGAAGTACGCTCGCAAGAGTG\"]}\n",
    "seq_id_searched = searchAllSeqID(fasta)"
   ]
  },
  {
   "cell_type": "code",
   "execution_count": 67,
   "metadata": {},
   "outputs": [
    {
     "data": {
      "text/plain": [
       "{'k__Bacteria;p__Proteobacteria;c__Alphaproteobacteria;o__Rhodobacterales;f__Rhodobacteraceae;Other': []}"
      ]
     },
     "execution_count": 67,
     "metadata": {},
     "output_type": "execute_result"
    },
    {
     "name": "stdout",
     "output_type": "stream",
     "text": [
      "8 7 7 6 7 9 12 7 6 21 7 8 16 7 15 "
     ]
    }
   ],
   "source": [
    "with open('./dataset/CA IA/seq_id_searched.txt', 'w') as f:\n",
    "    f.write(seq_id_searched)\n"
   ]
  },
  {
   "cell_type": "code",
   "execution_count": null,
   "metadata": {},
   "outputs": [
    {
     "name": "stdout",
     "output_type": "stream",
     "text": [
      "准备好数据\n"
     ]
    }
   ],
   "source": [
    "searchSeqID(\"TACAGGGGTGGCAAGCGTTGTCCGGATTTACTGGGTGTAAAGGGTGCGCAGGCGGAATAGCAAGTCGGgggTTAAATCCATGTGCTTAACACATGCATGGCTTCCGATACTGTTATTCTAGAGTGTCGAAGAGGAAGATGGAATTTCCGGTGTAACGGTGGAATGTGTAGATATCGGAAAGAACACCAGTGGCGAAGGCAGTCTTCTGGTCGACAACTGACGCTCAGGCACGAAAGCGTGGGGAGCGAACAGGATTAGATACCCTGGTAGTCCACGCCGTAAACGATGAATACTAGATGTTGGTCATTCGTGATCAGTGTCGCAGCTAACGCGTTAAGTATTCCACCTGGGAAGTACGCTCGCAAGAGTG\")"
   ]
  },
  {
   "cell_type": "code",
   "execution_count": 32,
   "metadata": {},
   "outputs": [
    {
     "name": "stdout",
     "output_type": "stream",
     "text": [
      "\n",
      "k__Bacteria;p__Proteobacteria;c__Alphaproteobacteria;o__Rhodobacterales;f__Rhodobacteraceae;Other: 22 个seq_id\n",
      "1 已发送数据\n",
      "已获取序列比对数据\n",
      "2 已发送数据\n",
      "已获取序列比对数据\n",
      "3 已发送数据\n",
      "已获取序列比对数据\n",
      "4 已发送数据\n",
      "已获取序列比对数据\n",
      "5 已发送数据\n",
      "已获取序列比对数据\n",
      "6 已发送数据\n",
      "7 8 9 10 11 12 13 14 15 16 17 18 19 20 21 22 "
     ]
    }
   ],
   "source": [
    "seq_id_searched = dict()\n",
    "\n",
    "count = 0\n",
    "for strain_name, fasta_list in fasta_need_search.items():\n",
    "    print(\"\\n%s: %d 个seq_id\" %(strain_name, len(fasta_list)))\n",
    "    seq_id_searched[strain_name] = []\n",
    "    for i, seq in enumerate(fasta_list):\n",
    "        print(\"%d \" %(i+1), end='')\n",
    "        try:\n",
    "            seq_id_searched[strain_name].extend(searchSeqID(seq))\n",
    "        except:\n",
    "            seq_id_searched[strain_name].extend([])\n",
    "    count += 1\n",
    "    if count == 1:\n",
    "        break\n"
   ]
  },
  {
   "cell_type": "markdown",
   "metadata": {},
   "source": [
    "打开excl菌属表格，从上往下，查每个菌属（g没有给出，p,c,o,f等均清楚给出了才需要查，但如果f给出的是unidentified这个前缀的，不需要查）\n",
    "\n",
    "1. 将OTUs.tax-assignments.txt文件拖至excl表格打开，根据第一列文件名排序（方便后面查找），将OTUs.fasta拖至文本文件打开。（打开一个新的excl或txt文件，然后点这两个文件图标，拖到excl或txt工作面板就行）\n",
    "\n",
    "2. 根据菌属表格从上往下，依次找到需要查找的菌属，复制文件名，去OTUs.tax-assignments.txt文件中查找，有时候查找功能不一定能够找到，需要手动去找，所以一开始要排序。在OTUs.tax-assignments.txt中，确定你要找的菌种对应的OTU数，有时候一个菌属对应了很多OTU数，每个都需要查。\n",
    "\n",
    "3. 根据OTU数，在OTUs.fasta文件中找到该OTU数的基因序列，复制该基因序列。\n",
    "\n",
    "4. 打开网址[http://rdp.cme.msu.edu/seqmatch/seqmatch_intro.jsp](http://rdp.cme.msu.edu/seqmatch/seqmatch_intro.jsp)，将基因序列复制到文本框中，同时勾选查找方式，具体如图，然后点击submit。\n",
    "\n",
    "![method_pic1](./images/method1.png)\n",
    "![method_pic2](./images/method2.png)\n",
    "\n",
    "5. 选择show printer friendly results。\n",
    "\n",
    "![method_pic3](./images/method3.png)\n",
    "\n",
    "6. 这就是查找的最终结果，找到与你找的那个菌属phylum class order family完全对应的，然后再看相似度，橘红色背景的那个，如果有0.95以上的，把他的菌属名，就是Genus后面的名字，复制到菌属名excel对应的那一栏后面。全部查完都没有0.95以上的，就备注other。\n"
   ]
  },
  {
   "cell_type": "code",
   "execution_count": null,
   "metadata": {},
   "outputs": [],
   "source": []
  }
 ],
 "metadata": {
  "kernelspec": {
   "display_name": "Python 3",
   "language": "python",
   "name": "python3"
  },
  "language_info": {
   "codemirror_mode": {
    "name": "ipython",
    "version": 3
   },
   "file_extension": ".py",
   "mimetype": "text/x-python",
   "name": "python",
   "nbconvert_exporter": "python",
   "pygments_lexer": "ipython3",
   "version": "3.7.1"
  }
 },
 "nbformat": 4,
 "nbformat_minor": 2
}
