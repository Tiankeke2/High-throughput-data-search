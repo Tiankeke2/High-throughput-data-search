{
 "cells": [
  {
   "cell_type": "markdown",
   "metadata": {},
   "source": [
    "# Workflow\n",
    "\n",
    "打开excl菌属表格，从上往下，查每个菌属（g没有给出，p,c,o,f等均清楚给出了才需要查，但如果f给出的是unidentified这个前缀的，不需要查，如果表格中的数值全部小于0.005（0.5%），也不需要查）\n",
    "\n",
    "1. 将OTUs.tax-assignments.txt文件拖至excl表格打开，根据第一列文件名排序（方便后面查找），将OTUs.fasta拖至文本文件打开。（打开一个新的excl或txt文件，然后点这两个文件图标，拖到excl或txt工作面板就行）\n",
    "\n",
    "2. 根据菌属表格从上往下，依次找到需要查找的菌属，复制文件名，去OTUs.tax-assignments.txt文件中查找，有时候查找功能不一定能够找到，需要手动去找，所以一开始要排序。在OTUs.tax-assignments.txt中，确定你要找的菌种对应的OTU数，有时候一个菌属对应了很多OTU数，每个都需要查。\n",
    "\n",
    "3. 根据OTU数，在OTUs.fasta文件中找到该OTU数的基因序列，复制该基因序列。\n",
    "\n",
    "4. 打开网址 [http://rdp.cme.msu.edu/seqmatch/seqmatch_intro.jsp](http://rdp.cme.msu.edu/seqmatch/seqmatch_intro.jsp) ，将基因序列复制到文本框中，同时勾选查找方式，具体如图，然后submit。\n",
    "\n",
    "![method_pic1](./img/screenshot1.png)\n",
    "![method_pic2](./img/screenshot2.png)\n",
    "\n",
    "5. 选择show printer friendly results。\n",
    "\n",
    "![method_pic3](./img/screenshot3.png)\n",
    "\n",
    "6. 这就是查找的最终结果，找到与你找的那个菌属phylum class order family完全对应的，然后再看相似度，橘红色背景的那个，如果有0.95以上的，把他的菌属名，就是Genus后面的名字，复制到菌属名excel对应的那一栏后面。全部查完都没有0.95以上的，就备注other。\n"
   ]
  },
  {
   "cell_type": "code",
   "execution_count": 1,
   "metadata": {},
   "outputs": [],
   "source": [
    "import pandas as pd\n",
    "import numpy as np\n",
    "import os\n",
    "import re\n",
    "import json\n",
    "import requests\n",
    "from bs4 import BeautifulSoup"
   ]
  },
  {
   "cell_type": "markdown",
   "metadata": {},
   "source": [
    "## 读取菌属表格文件"
   ]
  },
  {
   "cell_type": "code",
   "execution_count": 2,
   "metadata": {},
   "outputs": [
    {
     "name": "stdout",
     "output_type": "stream",
     "text": [
      "296\n"
     ]
    },
    {
     "data": {
      "text/html": [
       "<div>\n",
       "<style scoped>\n",
       "    .dataframe tbody tr th:only-of-type {\n",
       "        vertical-align: middle;\n",
       "    }\n",
       "\n",
       "    .dataframe tbody tr th {\n",
       "        vertical-align: top;\n",
       "    }\n",
       "\n",
       "    .dataframe thead th {\n",
       "        text-align: right;\n",
       "    }\n",
       "</style>\n",
       "<table border=\"1\" class=\"dataframe\">\n",
       "  <thead>\n",
       "    <tr style=\"text-align: right;\">\n",
       "      <th></th>\n",
       "      <th>CA1S</th>\n",
       "      <th>CA1B</th>\n",
       "      <th>CA2S</th>\n",
       "      <th>CA2B</th>\n",
       "      <th>IA1S48</th>\n",
       "      <th>IA1B48</th>\n",
       "      <th>IA2S48</th>\n",
       "      <th>IA2B48</th>\n",
       "    </tr>\n",
       "  </thead>\n",
       "  <tbody>\n",
       "    <tr>\n",
       "      <th>count</th>\n",
       "      <td>%</td>\n",
       "      <td>%</td>\n",
       "      <td>%</td>\n",
       "      <td>%</td>\n",
       "      <td>%</td>\n",
       "      <td>%</td>\n",
       "      <td>%</td>\n",
       "      <td>NaN</td>\n",
       "    </tr>\n",
       "    <tr>\n",
       "      <th>k__Bacteria;p__Actinobacteria;c__Acidimicrobiia;o__Actinomarinales;f__;g__</th>\n",
       "      <td>0.29</td>\n",
       "      <td>0.059</td>\n",
       "      <td>0.076</td>\n",
       "      <td>0.057</td>\n",
       "      <td>0.032</td>\n",
       "      <td>0.007</td>\n",
       "      <td>0.025</td>\n",
       "      <td>0.004</td>\n",
       "    </tr>\n",
       "    <tr>\n",
       "      <th>k__Bacteria;p__Proteobacteria;c__Alphaproteobacteria;o__Rhodobacterales;f__Rhodobacteraceae;Other</th>\n",
       "      <td>0.103</td>\n",
       "      <td>0.091</td>\n",
       "      <td>0.068</td>\n",
       "      <td>0.068</td>\n",
       "      <td>0.109</td>\n",
       "      <td>0.024</td>\n",
       "      <td>0.037</td>\n",
       "      <td>0.029</td>\n",
       "    </tr>\n",
       "    <tr>\n",
       "      <th>k__Bacteria;p__Proteobacteria;c__Alphaproteobacteria;o__Rhodospirillales;f__unidentified_Rhodospirillales;g__Defluviicoccus</th>\n",
       "      <td>0.094</td>\n",
       "      <td>0.156</td>\n",
       "      <td>0.222</td>\n",
       "      <td>0.137</td>\n",
       "      <td>0.202</td>\n",
       "      <td>0.112</td>\n",
       "      <td>0.265</td>\n",
       "      <td>0.243</td>\n",
       "    </tr>\n",
       "    <tr>\n",
       "      <th>k__Bacteria;p__Proteobacteria;c__Alphaproteobacteria;o__Rhizobiales;f__Rhizobiaceae;Other</th>\n",
       "      <td>0.067</td>\n",
       "      <td>0.071</td>\n",
       "      <td>0.022</td>\n",
       "      <td>0.025</td>\n",
       "      <td>0.099</td>\n",
       "      <td>0.022</td>\n",
       "      <td>0.009</td>\n",
       "      <td>0.009</td>\n",
       "    </tr>\n",
       "  </tbody>\n",
       "</table>\n",
       "</div>"
      ],
      "text/plain": [
       "                                                     CA1S   CA1B   CA2S  \\\n",
       "count                                                   %      %      %   \n",
       "k__Bacteria;p__Actinobacteria;c__Acidimicrobiia...   0.29  0.059  0.076   \n",
       "k__Bacteria;p__Proteobacteria;c__Alphaproteobac...  0.103  0.091  0.068   \n",
       "k__Bacteria;p__Proteobacteria;c__Alphaproteobac...  0.094  0.156  0.222   \n",
       "k__Bacteria;p__Proteobacteria;c__Alphaproteobac...  0.067  0.071  0.022   \n",
       "\n",
       "                                                     CA2B IA1S48 IA1B48  \\\n",
       "count                                                   %      %      %   \n",
       "k__Bacteria;p__Actinobacteria;c__Acidimicrobiia...  0.057  0.032  0.007   \n",
       "k__Bacteria;p__Proteobacteria;c__Alphaproteobac...  0.068  0.109  0.024   \n",
       "k__Bacteria;p__Proteobacteria;c__Alphaproteobac...  0.137  0.202  0.112   \n",
       "k__Bacteria;p__Proteobacteria;c__Alphaproteobac...  0.025  0.099  0.022   \n",
       "\n",
       "                                                   IA2S48  IA2B48  \n",
       "count                                                   %     NaN  \n",
       "k__Bacteria;p__Actinobacteria;c__Acidimicrobiia...  0.025   0.004  \n",
       "k__Bacteria;p__Proteobacteria;c__Alphaproteobac...  0.037   0.029  \n",
       "k__Bacteria;p__Proteobacteria;c__Alphaproteobac...  0.265   0.243  \n",
       "k__Bacteria;p__Proteobacteria;c__Alphaproteobac...  0.009   0.009  "
      ]
     },
     "execution_count": 2,
     "metadata": {},
     "output_type": "execute_result"
    }
   ],
   "source": [
    "strain_df = pd.read_excel('./dataset/CA IA/strain.xlsx')\n",
    "print(len(strain_df))\n",
    "strain_df.head()"
   ]
  },
  {
   "cell_type": "markdown",
   "metadata": {},
   "source": [
    "## 找出需要查的菌属"
   ]
  },
  {
   "cell_type": "code",
   "execution_count": 3,
   "metadata": {},
   "outputs": [
    {
     "data": {
      "text/plain": [
       "(False, 1)"
      ]
     },
     "execution_count": 3,
     "metadata": {},
     "output_type": "execute_result"
    }
   ],
   "source": [
    "def needSearch(strain_item):\n",
    "    \"\"\"\n",
    "        判断菌属是否需要查\n",
    "        返回值：(need_search, code)\n",
    "            need_search: True/False 如果需要查则返回True,反之是False\n",
    "            code: 0/1/2/3 标识码\n",
    "                0 需要查\n",
    "                1 菌属信息不全\n",
    "                2 f 中含有 unidentified\n",
    "                3 数值全部小于0.005（0.5%）\n",
    "    \"\"\"\n",
    "    # 解析菌属字段\n",
    "    strain_name = strain_item.name\n",
    "    strain_values = strain_item.values\n",
    "\n",
    "    # 将菌属字符串分割成为k,p,c,o,f,g的列表\n",
    "    strain_detail = strain_name.split(';')\n",
    "    \n",
    "    need_search = True\n",
    "    code = 0\n",
    "    # 检查是否有菌属信息\n",
    "    for detail in strain_detail[:-1]:\n",
    "        if detail[-1] == '_' or 'Other' in detail:\n",
    "            need_search = False\n",
    "            code = 1\n",
    "            break\n",
    "\n",
    "    # 检查 f 是否有 ‘unidentified’\n",
    "    if 'unidentified' in strain_detail[4]:\n",
    "        need_search = False\n",
    "        code = 2\n",
    "\n",
    "    # 检查数值是否小于 0.5%\n",
    "    if True not in (strain_values > 0.005):\n",
    "        need_search = False\n",
    "        code = 3\n",
    "    \n",
    "    return need_search, code\n",
    "\n",
    "needSearch(strain_df.iloc[1])"
   ]
  },
  {
   "cell_type": "code",
   "execution_count": 4,
   "metadata": {},
   "outputs": [
    {
     "name": "stdout",
     "output_type": "stream",
     "text": [
      "共需要查 38 个菌属\n"
     ]
    }
   ],
   "source": [
    "def strainNeedSearch(strain_df):\n",
    "    \"\"\"\n",
    "        返回所有需要查找的菌属\n",
    "    \"\"\"\n",
    "    \n",
    "    strain_need_search = []\n",
    "    for i in range(1, len(strain_df)):\n",
    "        strain_item = strain_df.iloc[i]\n",
    "        if needSearch(strain_item)[0] == True:\n",
    "            # 将菌属名存入 strain_name\n",
    "#             strain_name = ';'.join(strain_item.name.split(';')[:-1])\n",
    "            strain_name = strain_item.name\n",
    "            strain_need_search.append(strain_name)\n",
    "    print(\"共需要查 %d 个菌属\" %(len(strain_need_search)))\n",
    "    return strain_need_search\n",
    "\n",
    "strain_need_search = strainNeedSearch(strain_df)"
   ]
  },
  {
   "cell_type": "code",
   "execution_count": 5,
   "metadata": {},
   "outputs": [
    {
     "data": {
      "text/plain": [
       "['k__Bacteria;p__Proteobacteria;c__Alphaproteobacteria;o__Rhodobacterales;f__Rhodobacteraceae;Other',\n",
       " 'k__Bacteria;p__Proteobacteria;c__Alphaproteobacteria;o__Rhizobiales;f__Rhizobiaceae;Other',\n",
       " 'k__Bacteria;p__Proteobacteria;c__Gammaproteobacteria;o__unidentified_Gammaproteobacteria;f__Competibacteraceae;g__Candidatus_Competibacter',\n",
       " 'k__Bacteria;p__Bacteroidetes;c__Chlorobia;o__Chlorobiales;f__Chlorobiaceae;g__Prosthecochloris',\n",
       " 'k__Bacteria;p__Proteobacteria;c__Gammaproteobacteria;o__unidentified_Gammaproteobacteria;f__Nitrosomonadaceae;g__Nitrosomonas']"
      ]
     },
     "execution_count": 5,
     "metadata": {},
     "output_type": "execute_result"
    }
   ],
   "source": [
    "strain_need_search[:5]"
   ]
  },
  {
   "cell_type": "markdown",
   "metadata": {},
   "source": [
    "## 通过`OTUs.tax_assignments.txt`查找OTU数\n",
    "\n",
    "### 打开`OTUs.tax_assignments.txt`并读取信息"
   ]
  },
  {
   "cell_type": "code",
   "execution_count": 3,
   "metadata": {
    "scrolled": true
   },
   "outputs": [
    {
     "name": "stdout",
     "output_type": "stream",
     "text": [
      "OTU_325\tk__Bacteria;p__Actinobacteria;c__unidentified_Actinobacteria;o__Propionibacteriales;f__Nocar\n"
     ]
    }
   ],
   "source": [
    "with open('./dataset/CA IA/OTUs.tax_assignments.txt', 'r') as f:\n",
    "    OTUs_content = f.read()\n",
    "print(OTUs_content[:100])"
   ]
  },
  {
   "cell_type": "markdown",
   "metadata": {},
   "source": [
    "### 找出`strain_need_search`所对应的`OTUs_need_search`\n",
    "\n",
    "`OTUs_need_search`是一个字典：\n",
    "```python\n",
    "OTUs_need_search = {\n",
    "        \"菌属名0\":[对应的OTU列表],\n",
    "        \"菌属名1\":[对应的OTU列表],\n",
    "        ...\n",
    "}\n",
    "\n",
    "```"
   ]
  },
  {
   "cell_type": "code",
   "execution_count": 7,
   "metadata": {},
   "outputs": [],
   "source": [
    "def OTUsNeedSearch(strain_need_search):\n",
    "    \"\"\"\n",
    "        根据 strain_need_search 找出对应的 OTUs，\n",
    "        并存入 OTUs_need_search 字典中\n",
    "    \"\"\"\n",
    "    OTUs_need_search = dict()\n",
    "\n",
    "    for strain_name in strain_need_search:\n",
    "        # 正则表达式找出菌属名所对应的 OTUs_content\n",
    "        info = r'\\n([^\\n]+%s[^\\n]+)\\n' %(';'.join(strain_name.split(';')[:-1]))\n",
    "        OTUs_content_need_search = re.findall(info, OTUs_content)\n",
    "\n",
    "        # 从 OTUs_content 中获取 OTUs 列表\n",
    "        OTUs_list_need_search = [content.split('\\t')[0] for content in OTUs_content_need_search]\n",
    "\n",
    "        # 将 OTUs 列表存入 OTUs_need_search 字典中\n",
    "        OTUs_need_search[strain_name] = OTUs_list_need_search\n",
    "    \n",
    "    return OTUs_need_search\n",
    "\n",
    "OTUs_need_search = OTUsNeedSearch(strain_need_search)"
   ]
  },
  {
   "cell_type": "code",
   "execution_count": 8,
   "metadata": {},
   "outputs": [
    {
     "data": {
      "text/plain": [
       "38"
      ]
     },
     "execution_count": 8,
     "metadata": {},
     "output_type": "execute_result"
    }
   ],
   "source": [
    "len(OTUs_need_search)"
   ]
  },
  {
   "cell_type": "markdown",
   "metadata": {},
   "source": [
    "## 通过`OTUs.fasta`查找`OTUs_need_search`对应的基因序列\n",
    "\n",
    "### 打开`OTUs.fasta`并读取信息"
   ]
  },
  {
   "cell_type": "code",
   "execution_count": 9,
   "metadata": {},
   "outputs": [
    {
     "data": {
      "text/plain": [
       "'>OTU_1\\nTACGGAAGGGGCTAGCGTTGTTCGGATTTACTGGGCGTAAAGAGCACGTAGGCGGCTTATCAAGTGAGGCGTGAAAGGCC\\nTGGGCTCAACCT'"
      ]
     },
     "execution_count": 9,
     "metadata": {},
     "output_type": "execute_result"
    }
   ],
   "source": [
    "with open('./dataset/CA IA/OTUs.fasta', 'r') as f:\n",
    "    fasta_content = f.read()\n",
    "fasta_content[:100]"
   ]
  },
  {
   "cell_type": "markdown",
   "metadata": {},
   "source": [
    "### 找出`OTUs_need_search`所对应的`fasta_need_search`\n",
    "\n",
    "与`OTUs_need_search`类似，`fasta_need_search`也是一个字典：\n",
    "```python\n",
    "fasta_need_search = {\n",
    "        \"菌属名0\":[对应的fasta列表],\n",
    "        \"菌属名1\":[对应的fasta列表],\n",
    "        ...\n",
    "}\n",
    "\n",
    "```"
   ]
  },
  {
   "cell_type": "code",
   "execution_count": 10,
   "metadata": {},
   "outputs": [],
   "source": [
    "def fastaNeedSearch(OTUs_need_search):\n",
    "    \"\"\"\n",
    "        根据 OTUs_need_search 找出对应的基因序列，\n",
    "        并存入 fasta_need_search 字典中\n",
    "    \"\"\"\n",
    "    fasta_need_search = dict()\n",
    "    \n",
    "    for strain_name, OTUs_list in OTUs_need_search.items():\n",
    "        # 正则表达式找出 OTU 所对应的 fasta_content\n",
    "        fasta_content_need_search = []\n",
    "        for OTU in OTUs_list:\n",
    "            info = r'(%s[^>]+)>' %(OTU)\n",
    "            fasta_content_need_search.append(re.findall(info, fasta_content)[0])\n",
    "        \n",
    "        # 从 fasta_content 中获取基因序列\n",
    "        fasta_list_need_search = [''.join(content.split('\\n')[1:]) for content in fasta_content_need_search]\n",
    "        \n",
    "        # 将基因序列存入 fasta_need_search 字典中\n",
    "        fasta_need_search[strain_name] = fasta_list_need_search\n",
    "    \n",
    "    return fasta_need_search\n",
    "\n",
    "fasta_need_search = fastaNeedSearch(OTUs_need_search)"
   ]
  },
  {
   "cell_type": "code",
   "execution_count": 11,
   "metadata": {},
   "outputs": [
    {
     "data": {
      "text/plain": [
       "38"
      ]
     },
     "execution_count": 11,
     "metadata": {},
     "output_type": "execute_result"
    }
   ],
   "source": [
    "len(fasta_need_search)"
   ]
  },
  {
   "cell_type": "markdown",
   "metadata": {},
   "source": [
    "## 保存`OTUs_need_search`和`fasta_need_search`至文件"
   ]
  },
  {
   "cell_type": "code",
   "execution_count": null,
   "metadata": {},
   "outputs": [],
   "source": [
    "def saveOTUsNeedSearch(OTUs_need_search):\n",
    "    with open('./dataset/CA IA/OTUs_need_search.txt','w') as outfile:\n",
    "        json.dump(OTUs_need_search, outfile)\n",
    "\n",
    "def saveFastaNeedSearch(fasta_need_search):\n",
    "    with open('./dataset/CA IA/fasta_need_search.txt','w') as outfile:\n",
    "        json.dump(fasta_need_search, outfile)       \n",
    "        \n",
    "saveOTUsNeedSearch(OTUs_need_search)\n",
    "saveFastaNeedSearch(fasta_need_search)"
   ]
  },
  {
   "cell_type": "markdown",
   "metadata": {},
   "source": [
    "## 搜索基因序列并获取 Sequence ID"
   ]
  },
  {
   "cell_type": "code",
   "execution_count": 2,
   "metadata": {
    "scrolled": true
   },
   "outputs": [],
   "source": [
    "def searchSeqID(seq, threshold=0.95):\n",
    "\t\"\"\"搜索基因序列并返回匹配的 sequence ID \n",
    "\t\tparams:\n",
    "\t\t\tseq: (str) 基因序列\n",
    "\t\t\tthreshold: (float) 搜索的基因匹配程度,范围[0, 1],\n",
    "\t\treturn:\n",
    "\t\t\t(array) \n",
    "\t\t\t[[seq_id1, score1],\n",
    "\t\t\t [seq_id2, score2],\n",
    "\t\t\t ...,\n",
    "\t\t\t [seq_idn, scoren]]\n",
    "\t\"\"\"\n",
    "\tsess = requests.Session()\n",
    "\theaders = {\n",
    "\t\t\"User-Agent\":\"Mozilla/5.0 (X11; Linux x86_64) AppleWebKit/537.36 (KHTML, like Gecko) Chrome/71.0.3578.98 Safari/537.36\"\n",
    "\t}\n",
    "\tsess.headers.update(headers)\n",
    "\ttry:\n",
    "\t\tip = random_choose_ip(ip_list)\n",
    "\texcept:\n",
    "\t\tip_list = get_ip_list()\n",
    "\t\tip = random_choose_ip(ip_list)\n",
    "\tproxies = {\n",
    "\t\tip.split(':')[0]:ip,\n",
    "\t}\n",
    "\tdata = {\n",
    "\t\t'printParams': 'no',\n",
    "\t\t'fromDB': 'no',\n",
    "\t\t'sequence_file': '(binary)',\n",
    "\t\t'sequence': \"%s\" %(seq),\n",
    "\t\t'strain': 'both',\n",
    "\t\t'source': 'isolates',\n",
    "\t\t'size': 'gt1200',\n",
    "\t\t'quality': 'good',\n",
    "\t\t'taxonomy': 'rdpHome',\n",
    "\t\t'num': 20,\n",
    "\t\t'submit': 'Submit',\n",
    "\t}\n",
    "\turl = \"http://rdp.cme.msu.edu/seqmatch/SeqmatchControllerServlet/start\"\n",
    "\tres = sess.post(url, data=data, proxies=proxies)\n",
    "\tprint(\"已发送数据\", res, ip)\n",
    "\n",
    "\t# 必须 Status --> Summary --> Result 的顺序依次访问，否则可能会报错\n",
    "\t# Status\n",
    "\tres = sess.get(\"http://rdp.cme.msu.edu/seqmatch/seqmatch_status.jsp?qvector=12&depth=0&currentRoot=0&num=20\",\n",
    "\t\t\t\t\tproxies=proxies)\n",
    "\tprint(\"已获取 Status 页面\")\n",
    "\t# Summary\n",
    "\tres = sess.get(\"http://rdp.cme.msu.edu/seqmatch/seqmatch_sum.jsp?qvector=12&depth=0&currentRoot=0&num=20\",\n",
    "\t\t\t\t\tproxies=proxies)\n",
    "\tprint(\"已获取 Summaray 页面\")\n",
    "\t# Result\n",
    "\tres = sess.get('http://rdp.cme.msu.edu/seqmatch/seqmatch_result.jsp?qvector=204&depth=0&currentRoot=0&num=20',\n",
    "\t\t\t\t    proxies=proxies)\n",
    "\thtml = res.content.decode()\n",
    "\tprint(\"已获取序列比对数据\", res)\n",
    "\t\n",
    "\t# 搜索 match_score 大于等于0.95的序列id\n",
    "\tsoup = BeautifulSoup(html, 'html.parser')\n",
    "\tdetail_html = soup.find('div', {'class':'details'})\n",
    "\tseq_id_list = [item.text for item in detail_html.find_all('a', {'target':'_blank'})]\n",
    "\tmatch_score = np.array([float(item.text) for item in detail_html.find_all('span', {'style':'background-color: #FFDBB8'})[1:]])\n",
    "\tseq_id_searched = []\n",
    "\tif True not in (match_score >= threshold):\n",
    "\t\tprint('match_score 全部小于 %.2f' %(threshold))\n",
    "\tfor i, score in enumerate(match_score):\n",
    "\t\tif score >= threshold:\n",
    "\t\t\tseq_id_searched.append([seq_id_list[i], score])\n",
    "\treturn seq_id_searched"
   ]
  },
  {
   "cell_type": "markdown",
   "metadata": {},
   "source": [
    "## 多线程获取 Sequence ID"
   ]
  },
  {
   "cell_type": "code",
   "execution_count": 5,
   "metadata": {},
   "outputs": [],
   "source": [
    "from queue import Queue\n",
    "from threading import Thread"
   ]
  },
  {
   "cell_type": "code",
   "execution_count": 6,
   "metadata": {},
   "outputs": [],
   "source": [
    "def searchBatchSeqID(strain_name, fasta_list, queue):\n",
    "    batch_data = (strain_name, [])\n",
    "    for i, seq in enumerate(fasta_list):\n",
    "        try:\n",
    "            batch_data[1].extend(searchSeqID(seq))\n",
    "        except:\n",
    "            batch_data[1].extend([])\n",
    "    queue.put(batch_data)\n",
    "    print(\"\\n成功获取 %s 的所有 seq_id\" %(strain_name))"
   ]
  },
  {
   "cell_type": "code",
   "execution_count": 7,
   "metadata": {},
   "outputs": [],
   "source": [
    "def searchAllSeqID(fasta_need_search):\n",
    "    queue = Queue()\n",
    "    thds = []\n",
    "    for strain_name, fasta_list in fasta_need_search.items():\n",
    "        print(strain_name)\n",
    "        thd = Thread(target=searchBatchSeqID,\n",
    "                    args=(strain_name, fasta_list, queue))\n",
    "        thd.start()\n",
    "        thds.append(thd)\n",
    "        print(\"开启 %s 的线程\" %(strain_name))\n",
    "    for thd in thds:\n",
    "        thd.join()\n",
    "        \n",
    "    seq_id_searched = []\n",
    "    for thd in thds:\n",
    "        seq_id_searched += queue.get()\n",
    "    print('\\n成功获取所有seq_id')\n",
    "    return seq_id_searched"
   ]
  },
  {
   "cell_type": "code",
   "execution_count": null,
   "metadata": {},
   "outputs": [],
   "source": []
  }
 ],
 "metadata": {
  "kernelspec": {
   "display_name": "Python 3",
   "language": "python",
   "name": "python3"
  },
  "language_info": {
   "codemirror_mode": {
    "name": "ipython",
    "version": 3
   },
   "file_extension": ".py",
   "mimetype": "text/x-python",
   "name": "python",
   "nbconvert_exporter": "python",
   "pygments_lexer": "ipython3",
   "version": "3.7.1"
  }
 },
 "nbformat": 4,
 "nbformat_minor": 2
}
